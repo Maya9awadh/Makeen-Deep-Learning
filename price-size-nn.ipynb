{
 "cells": [
  {
   "cell_type": "code",
   "execution_count": 2,
   "metadata": {},
   "outputs": [],
   "source": [
    "import tensorflow as tf\n",
    "import pandas as pd\n",
    "import numpy as np"
   ]
  },
  {
   "cell_type": "code",
   "execution_count": 4,
   "metadata": {},
   "outputs": [
    {
     "data": {
      "text/html": [
       "<div>\n",
       "<style scoped>\n",
       "    .dataframe tbody tr th:only-of-type {\n",
       "        vertical-align: middle;\n",
       "    }\n",
       "\n",
       "    .dataframe tbody tr th {\n",
       "        vertical-align: top;\n",
       "    }\n",
       "\n",
       "    .dataframe thead th {\n",
       "        text-align: right;\n",
       "    }\n",
       "</style>\n",
       "<table border=\"1\" class=\"dataframe\">\n",
       "  <thead>\n",
       "    <tr style=\"text-align: right;\">\n",
       "      <th></th>\n",
       "      <th>size</th>\n",
       "      <th>price</th>\n",
       "    </tr>\n",
       "  </thead>\n",
       "  <tbody>\n",
       "    <tr>\n",
       "      <th>0</th>\n",
       "      <td>214.644051</td>\n",
       "      <td>5243.042166</td>\n",
       "    </tr>\n",
       "    <tr>\n",
       "      <th>1</th>\n",
       "      <td>264.556810</td>\n",
       "      <td>580.509565</td>\n",
       "    </tr>\n",
       "    <tr>\n",
       "      <th>2</th>\n",
       "      <td>230.829013</td>\n",
       "      <td>4306.609567</td>\n",
       "    </tr>\n",
       "    <tr>\n",
       "      <th>3</th>\n",
       "      <td>213.464955</td>\n",
       "      <td>6170.163128</td>\n",
       "    </tr>\n",
       "    <tr>\n",
       "      <th>4</th>\n",
       "      <td>177.096440</td>\n",
       "      <td>851.803456</td>\n",
       "    </tr>\n",
       "  </tbody>\n",
       "</table>\n",
       "</div>"
      ],
      "text/plain": [
       "         size        price\n",
       "0  214.644051  5243.042166\n",
       "1  264.556810   580.509565\n",
       "2  230.829013  4306.609567\n",
       "3  213.464955  6170.163128\n",
       "4  177.096440   851.803456"
      ]
     },
     "execution_count": 4,
     "metadata": {},
     "output_type": "execute_result"
    }
   ],
   "source": [
    "#creating a dataframe\n",
    "np.random.seed(0)\n",
    "df = pd.DataFrame({\n",
    "    'size': np.random.uniform(50, 350, 1000),\n",
    "    'price': np.random.uniform(500, 8500, 1000)\n",
    "})\n",
    "df.head()"
   ]
  },
  {
   "cell_type": "code",
   "execution_count": 5,
   "metadata": {},
   "outputs": [],
   "source": [
    "#determine X and y\n",
    "X = df.drop('price', axis=1).values\n",
    "y = df['price'].values"
   ]
  },
  {
   "cell_type": "code",
   "execution_count": 6,
   "metadata": {},
   "outputs": [],
   "source": [
    "#define a model\n",
    "model=tf.keras.models.Sequential([\n",
    "    tf.keras.layers.Input(name='Size',shape=[1]),\n",
    "    tf.keras.layers.Dense(20,name='Hidden'),\n",
    "    tf.keras.layers.Dense(1,name='Price')\n",
    "])"
   ]
  },
  {
   "cell_type": "code",
   "execution_count": 7,
   "metadata": {},
   "outputs": [
    {
     "name": "stdout",
     "output_type": "stream",
     "text": [
      "Model: \"sequential\"\n",
      "_________________________________________________________________\n",
      " Layer (type)                Output Shape              Param #   \n",
      "=================================================================\n",
      " Hidden (Dense)              (None, 20)                40        \n",
      "                                                                 \n",
      " Price (Dense)               (None, 1)                 21        \n",
      "                                                                 \n",
      "=================================================================\n",
      "Total params: 61 (244.00 Byte)\n",
      "Trainable params: 61 (244.00 Byte)\n",
      "Non-trainable params: 0 (0.00 Byte)\n",
      "_________________________________________________________________\n"
     ]
    }
   ],
   "source": [
    "#summary of the model\n",
    "model.summary()"
   ]
  },
  {
   "cell_type": "code",
   "execution_count": 9,
   "metadata": {},
   "outputs": [],
   "source": [
    "#compile the model\n",
    "model.compile(optimizer='adam', loss='mean_squared_error')"
   ]
  },
  {
   "cell_type": "code",
   "execution_count": 10,
   "metadata": {},
   "outputs": [
    {
     "name": "stdout",
     "output_type": "stream",
     "text": [
      "Epoch 1/10\n",
      "25/25 [==============================] - 2s 22ms/step - loss: 25242286.0000 - val_loss: 24066112.0000\n",
      "Epoch 2/10\n",
      "25/25 [==============================] - 0s 4ms/step - loss: 24758802.0000 - val_loss: 23575496.0000\n",
      "Epoch 3/10\n",
      "25/25 [==============================] - 0s 4ms/step - loss: 24255508.0000 - val_loss: 23069348.0000\n",
      "Epoch 4/10\n",
      "25/25 [==============================] - 0s 4ms/step - loss: 23733218.0000 - val_loss: 22535386.0000\n",
      "Epoch 5/10\n",
      "25/25 [==============================] - 0s 3ms/step - loss: 23181534.0000 - val_loss: 21978636.0000\n",
      "Epoch 6/10\n",
      "25/25 [==============================] - 0s 4ms/step - loss: 22604708.0000 - val_loss: 21395966.0000\n",
      "Epoch 7/10\n",
      "25/25 [==============================] - 0s 3ms/step - loss: 21998156.0000 - val_loss: 20790124.0000\n",
      "Epoch 8/10\n",
      "25/25 [==============================] - 0s 5ms/step - loss: 21372340.0000 - val_loss: 20150168.0000\n",
      "Epoch 9/10\n",
      "25/25 [==============================] - 0s 9ms/step - loss: 20709274.0000 - val_loss: 19499532.0000\n",
      "Epoch 10/10\n",
      "25/25 [==============================] - 0s 5ms/step - loss: 20034896.0000 - val_loss: 18813886.0000\n"
     ]
    },
    {
     "data": {
      "text/plain": [
       "<keras.src.callbacks.History at 0x1d8c372c100>"
      ]
     },
     "execution_count": 10,
     "metadata": {},
     "output_type": "execute_result"
    }
   ],
   "source": [
    "#fit the model\n",
    "model.fit(X, y, epochs=10, batch_size=32, validation_split=0.2)"
   ]
  },
  {
   "cell_type": "code",
   "execution_count": 11,
   "metadata": {},
   "outputs": [
    {
     "name": "stdout",
     "output_type": "stream",
     "text": [
      "1/1 [==============================] - 1s 1s/step\n"
     ]
    },
    {
     "data": {
      "text/plain": [
       "array([[1039.2614]], dtype=float32)"
      ]
     },
     "execution_count": 11,
     "metadata": {},
     "output_type": "execute_result"
    }
   ],
   "source": [
    "#make a prediction\n",
    "model.predict([[230]])"
   ]
  }
 ],
 "metadata": {
  "kernelspec": {
   "display_name": "snowflakes",
   "language": "python",
   "name": "python3"
  },
  "language_info": {
   "codemirror_mode": {
    "name": "ipython",
    "version": 3
   },
   "file_extension": ".py",
   "mimetype": "text/x-python",
   "name": "python",
   "nbconvert_exporter": "python",
   "pygments_lexer": "ipython3",
   "version": "3.8.8"
  },
  "orig_nbformat": 4
 },
 "nbformat": 4,
 "nbformat_minor": 2
}
