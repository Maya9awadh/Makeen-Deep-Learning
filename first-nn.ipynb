{
 "cells": [
  {
   "cell_type": "code",
   "execution_count": 1,
   "metadata": {},
   "outputs": [],
   "source": [
    "#imported librarries\n",
    "import tensorflow as tf \n",
    "import numpy as np"
   ]
  },
  {
   "cell_type": "code",
   "execution_count": 3,
   "metadata": {},
   "outputs": [],
   "source": [
    "#create dummy dataset\n",
    "x=tf.random.uniform((100,1))\n",
    "y=(x+5)*0.3"
   ]
  },
  {
   "cell_type": "code",
   "execution_count": 4,
   "metadata": {},
   "outputs": [
    {
     "data": {
      "text/plain": [
       "(tensorflow.python.framework.ops.EagerTensor,\n",
       " tensorflow.python.framework.ops.EagerTensor)"
      ]
     },
     "execution_count": 4,
     "metadata": {},
     "output_type": "execute_result"
    }
   ],
   "source": [
    "type(x),type(y)"
   ]
  },
  {
   "cell_type": "code",
   "execution_count": 6,
   "metadata": {},
   "outputs": [
    {
     "data": {
      "text/plain": [
       "(TensorShape([100, 1]), TensorShape([100, 1]))"
      ]
     },
     "execution_count": 6,
     "metadata": {},
     "output_type": "execute_result"
    }
   ],
   "source": [
    "x.shape, y.shape"
   ]
  },
  {
   "cell_type": "code",
   "execution_count": 8,
   "metadata": {},
   "outputs": [],
   "source": [
    "#define a simple nueral network\n",
    "model=tf.keras.Sequential(\n",
    "    [\n",
    "        tf.keras.layers.Input(name='InputLayer',shape=[1]),\n",
    "        tf.keras.layers.Dense(100,name='H1'),\n",
    "        tf.keras.layers.Dense(1,name='H2')\n",
    "    ]\n",
    ")"
   ]
  },
  {
   "cell_type": "code",
   "execution_count": 9,
   "metadata": {},
   "outputs": [
    {
     "name": "stdout",
     "output_type": "stream",
     "text": [
      "Model: \"sequential\"\n",
      "_________________________________________________________________\n",
      " Layer (type)                Output Shape              Param #   \n",
      "=================================================================\n",
      " H1 (Dense)                  (None, 100)               200       \n",
      "                                                                 \n",
      " H2 (Dense)                  (None, 1)                 101       \n",
      "                                                                 \n",
      "=================================================================\n",
      "Total params: 301 (1.18 KB)\n",
      "Trainable params: 301 (1.18 KB)\n",
      "Non-trainable params: 0 (0.00 Byte)\n",
      "_________________________________________________________________\n"
     ]
    }
   ],
   "source": [
    "#summarize the model\n",
    "model.summary()"
   ]
  },
  {
   "cell_type": "code",
   "execution_count": 10,
   "metadata": {},
   "outputs": [
    {
     "data": {
      "text/plain": [
       "TensorShape([1, 100])"
      ]
     },
     "execution_count": 10,
     "metadata": {},
     "output_type": "execute_result"
    }
   ],
   "source": [
    "model.layers[0].weights[0].shape"
   ]
  },
  {
   "cell_type": "code",
   "execution_count": 12,
   "metadata": {},
   "outputs": [],
   "source": [
    "#Train neural network\n",
    "model.compile(loss='MSE',optimizer='adam')"
   ]
  },
  {
   "cell_type": "code",
   "execution_count": 18,
   "metadata": {},
   "outputs": [
    {
     "name": "stdout",
     "output_type": "stream",
     "text": [
      "Epoch 1/100\n",
      "4/4 [==============================] - 0s 6ms/step - loss: 2.3732e-14\n",
      "Epoch 2/100\n",
      "4/4 [==============================] - 0s 5ms/step - loss: 2.3732e-14\n",
      "Epoch 3/100\n",
      "4/4 [==============================] - 0s 10ms/step - loss: 2.3874e-14\n",
      "Epoch 4/100\n",
      "4/4 [==============================] - 0s 6ms/step - loss: 2.3874e-14\n",
      "Epoch 5/100\n",
      "4/4 [==============================] - 0s 7ms/step - loss: 2.3732e-14\n",
      "Epoch 6/100\n",
      "4/4 [==============================] - 0s 6ms/step - loss: 2.3732e-14\n",
      "Epoch 7/100\n",
      "4/4 [==============================] - 0s 6ms/step - loss: 2.3732e-14\n",
      "Epoch 8/100\n",
      "4/4 [==============================] - 0s 9ms/step - loss: 2.3874e-14\n",
      "Epoch 9/100\n",
      "4/4 [==============================] - 0s 7ms/step - loss: 2.3874e-14\n",
      "Epoch 10/100\n",
      "4/4 [==============================] - 0s 8ms/step - loss: 2.3874e-14\n",
      "Epoch 11/100\n",
      "4/4 [==============================] - 0s 7ms/step - loss: 2.3874e-14\n",
      "Epoch 12/100\n",
      "4/4 [==============================] - 0s 8ms/step - loss: 2.3874e-14\n",
      "Epoch 13/100\n",
      "4/4 [==============================] - 0s 7ms/step - loss: 2.3732e-14\n",
      "Epoch 14/100\n",
      "4/4 [==============================] - 0s 5ms/step - loss: 2.4016e-14\n",
      "Epoch 15/100\n",
      "4/4 [==============================] - 0s 5ms/step - loss: 2.3306e-14\n",
      "Epoch 16/100\n",
      "4/4 [==============================] - 0s 5ms/step - loss: 2.3448e-14\n",
      "Epoch 17/100\n",
      "4/4 [==============================] - 0s 6ms/step - loss: 2.2737e-14\n",
      "Epoch 18/100\n",
      "4/4 [==============================] - 0s 7ms/step - loss: 2.3022e-14\n",
      "Epoch 19/100\n",
      "4/4 [==============================] - 0s 6ms/step - loss: 2.3022e-14\n",
      "Epoch 20/100\n",
      "4/4 [==============================] - 0s 5ms/step - loss: 2.2453e-14\n",
      "Epoch 21/100\n",
      "4/4 [==============================] - 0s 5ms/step - loss: 2.3306e-14\n",
      "Epoch 22/100\n",
      "4/4 [==============================] - 0s 5ms/step - loss: 2.3164e-14\n",
      "Epoch 23/100\n",
      "4/4 [==============================] - 0s 4ms/step - loss: 2.3164e-14\n",
      "Epoch 24/100\n",
      "4/4 [==============================] - 0s 5ms/step - loss: 2.4301e-14\n",
      "Epoch 25/100\n",
      "4/4 [==============================] - 0s 5ms/step - loss: 2.3732e-14\n",
      "Epoch 26/100\n",
      "4/4 [==============================] - 0s 5ms/step - loss: 2.3732e-14\n",
      "Epoch 27/100\n",
      "4/4 [==============================] - 0s 5ms/step - loss: 2.3732e-14\n",
      "Epoch 28/100\n",
      "4/4 [==============================] - 0s 6ms/step - loss: 2.3874e-14\n",
      "Epoch 29/100\n",
      "4/4 [==============================] - 0s 6ms/step - loss: 2.2311e-14\n",
      "Epoch 30/100\n",
      "4/4 [==============================] - 0s 6ms/step - loss: 2.2595e-14\n",
      "Epoch 31/100\n",
      "4/4 [==============================] - 0s 7ms/step - loss: 2.2027e-14\n",
      "Epoch 32/100\n",
      "4/4 [==============================] - 0s 8ms/step - loss: 2.2027e-14\n",
      "Epoch 33/100\n",
      "4/4 [==============================] - 0s 7ms/step - loss: 2.1885e-14\n",
      "Epoch 34/100\n",
      "4/4 [==============================] - 0s 8ms/step - loss: 2.1743e-14\n",
      "Epoch 35/100\n",
      "4/4 [==============================] - 0s 7ms/step - loss: 2.1174e-14\n",
      "Epoch 36/100\n",
      "4/4 [==============================] - 0s 6ms/step - loss: 2.1032e-14\n",
      "Epoch 37/100\n",
      "4/4 [==============================] - 0s 7ms/step - loss: 2.1032e-14\n",
      "Epoch 38/100\n",
      "4/4 [==============================] - 0s 5ms/step - loss: 2.1032e-14\n",
      "Epoch 39/100\n",
      "4/4 [==============================] - 0s 5ms/step - loss: 2.1032e-14\n",
      "Epoch 40/100\n",
      "4/4 [==============================] - 0s 6ms/step - loss: 2.1174e-14\n",
      "Epoch 41/100\n",
      "4/4 [==============================] - 0s 5ms/step - loss: 2.1032e-14\n",
      "Epoch 42/100\n",
      "4/4 [==============================] - 0s 6ms/step - loss: 2.1032e-14\n",
      "Epoch 43/100\n",
      "4/4 [==============================] - 0s 6ms/step - loss: 2.1032e-14\n",
      "Epoch 44/100\n",
      "4/4 [==============================] - 0s 4ms/step - loss: 2.0890e-14\n",
      "Epoch 45/100\n",
      "4/4 [==============================] - 0s 5ms/step - loss: 2.0748e-14\n",
      "Epoch 46/100\n",
      "4/4 [==============================] - 0s 5ms/step - loss: 2.0748e-14\n",
      "Epoch 47/100\n",
      "4/4 [==============================] - 0s 4ms/step - loss: 2.0748e-14\n",
      "Epoch 48/100\n",
      "4/4 [==============================] - 0s 6ms/step - loss: 2.0322e-14\n",
      "Epoch 49/100\n",
      "4/4 [==============================] - 0s 6ms/step - loss: 2.0464e-14\n",
      "Epoch 50/100\n",
      "4/4 [==============================] - 0s 6ms/step - loss: 2.0464e-14\n",
      "Epoch 51/100\n",
      "4/4 [==============================] - 0s 6ms/step - loss: 2.0037e-14\n",
      "Epoch 52/100\n",
      "4/4 [==============================] - 0s 7ms/step - loss: 2.0606e-14\n",
      "Epoch 53/100\n",
      "4/4 [==============================] - 0s 5ms/step - loss: 2.0179e-14\n",
      "Epoch 54/100\n",
      "4/4 [==============================] - 0s 6ms/step - loss: 2.0179e-14\n",
      "Epoch 55/100\n",
      "4/4 [==============================] - 0s 6ms/step - loss: 2.0179e-14\n",
      "Epoch 56/100\n",
      "4/4 [==============================] - 0s 7ms/step - loss: 2.0179e-14\n",
      "Epoch 57/100\n",
      "4/4 [==============================] - 0s 5ms/step - loss: 2.0037e-14\n",
      "Epoch 58/100\n",
      "4/4 [==============================] - 0s 7ms/step - loss: 2.0464e-14\n",
      "Epoch 59/100\n",
      "4/4 [==============================] - 0s 6ms/step - loss: 2.0464e-14\n",
      "Epoch 60/100\n",
      "4/4 [==============================] - 0s 7ms/step - loss: 2.0464e-14\n",
      "Epoch 61/100\n",
      "4/4 [==============================] - 0s 6ms/step - loss: 2.0322e-14\n",
      "Epoch 62/100\n",
      "4/4 [==============================] - 0s 5ms/step - loss: 2.0322e-14\n",
      "Epoch 63/100\n",
      "4/4 [==============================] - 0s 15ms/step - loss: 2.0037e-14\n",
      "Epoch 64/100\n",
      "4/4 [==============================] - 0s 9ms/step - loss: 2.0322e-14\n",
      "Epoch 65/100\n",
      "4/4 [==============================] - 0s 6ms/step - loss: 2.0322e-14\n",
      "Epoch 66/100\n",
      "4/4 [==============================] - 0s 7ms/step - loss: 2.0179e-14\n",
      "Epoch 67/100\n",
      "4/4 [==============================] - 0s 8ms/step - loss: 2.0037e-14\n",
      "Epoch 68/100\n",
      "4/4 [==============================] - 0s 7ms/step - loss: 2.0037e-14\n",
      "Epoch 69/100\n",
      "4/4 [==============================] - 0s 8ms/step - loss: 1.9753e-14\n",
      "Epoch 70/100\n",
      "4/4 [==============================] - 0s 5ms/step - loss: 1.9753e-14\n",
      "Epoch 71/100\n",
      "4/4 [==============================] - 0s 5ms/step - loss: 1.9753e-14\n",
      "Epoch 72/100\n",
      "4/4 [==============================] - 0s 5ms/step - loss: 1.9895e-14\n",
      "Epoch 73/100\n",
      "4/4 [==============================] - 0s 5ms/step - loss: 1.9185e-14\n",
      "Epoch 74/100\n",
      "4/4 [==============================] - 0s 5ms/step - loss: 1.9185e-14\n",
      "Epoch 75/100\n",
      "4/4 [==============================] - 0s 4ms/step - loss: 1.9185e-14\n",
      "Epoch 76/100\n",
      "4/4 [==============================] - 0s 5ms/step - loss: 1.8616e-14\n",
      "Epoch 77/100\n",
      "4/4 [==============================] - 0s 5ms/step - loss: 1.8616e-14\n",
      "Epoch 78/100\n",
      "4/4 [==============================] - 0s 7ms/step - loss: 1.8616e-14\n",
      "Epoch 79/100\n",
      "4/4 [==============================] - 0s 6ms/step - loss: 1.9185e-14\n",
      "Epoch 80/100\n",
      "4/4 [==============================] - 0s 5ms/step - loss: 1.9185e-14\n",
      "Epoch 81/100\n",
      "4/4 [==============================] - 0s 5ms/step - loss: 1.9327e-14\n",
      "Epoch 82/100\n",
      "4/4 [==============================] - 0s 4ms/step - loss: 1.9327e-14\n",
      "Epoch 83/100\n",
      "4/4 [==============================] - 0s 5ms/step - loss: 1.8332e-14\n",
      "Epoch 84/100\n",
      "4/4 [==============================] - 0s 6ms/step - loss: 1.7906e-14\n",
      "Epoch 85/100\n",
      "4/4 [==============================] - 0s 8ms/step - loss: 1.7479e-14\n",
      "Epoch 86/100\n",
      "4/4 [==============================] - 0s 6ms/step - loss: 1.7479e-14\n",
      "Epoch 87/100\n",
      "4/4 [==============================] - 0s 7ms/step - loss: 1.7479e-14\n",
      "Epoch 88/100\n",
      "4/4 [==============================] - 0s 5ms/step - loss: 1.7479e-14\n",
      "Epoch 89/100\n",
      "4/4 [==============================] - 0s 10ms/step - loss: 1.7479e-14\n",
      "Epoch 90/100\n",
      "4/4 [==============================] - 0s 5ms/step - loss: 1.7479e-14\n",
      "Epoch 91/100\n",
      "4/4 [==============================] - 0s 6ms/step - loss: 1.7479e-14\n",
      "Epoch 92/100\n",
      "4/4 [==============================] - 0s 7ms/step - loss: 1.7479e-14\n",
      "Epoch 93/100\n",
      "4/4 [==============================] - 0s 4ms/step - loss: 1.7479e-14\n",
      "Epoch 94/100\n",
      "4/4 [==============================] - 0s 5ms/step - loss: 1.7479e-14\n",
      "Epoch 95/100\n",
      "4/4 [==============================] - 0s 6ms/step - loss: 1.7479e-14\n",
      "Epoch 96/100\n",
      "4/4 [==============================] - 0s 6ms/step - loss: 1.7479e-14\n",
      "Epoch 97/100\n",
      "4/4 [==============================] - 0s 5ms/step - loss: 1.7479e-14\n",
      "Epoch 98/100\n",
      "4/4 [==============================] - 0s 4ms/step - loss: 1.7479e-14\n",
      "Epoch 99/100\n",
      "4/4 [==============================] - 0s 5ms/step - loss: 1.7479e-14\n",
      "Epoch 100/100\n",
      "4/4 [==============================] - 0s 4ms/step - loss: 1.7479e-14\n"
     ]
    },
    {
     "data": {
      "text/plain": [
       "<keras.src.callbacks.History at 0x1d5cf9fc400>"
      ]
     },
     "execution_count": 18,
     "metadata": {},
     "output_type": "execute_result"
    }
   ],
   "source": [
    "model.fit(x, y, epochs=100)"
   ]
  },
  {
   "cell_type": "code",
   "execution_count": 21,
   "metadata": {},
   "outputs": [
    {
     "data": {
      "text/plain": [
       "<tf.Tensor: shape=(1, 100), dtype=float32, numpy=\n",
       "array([[-2.8967779 ,  3.2495391 , -1.3842471 ,  2.723488  ,  0.6925937 ,\n",
       "        -2.688561  , -3.4627302 ,  2.8964524 , -1.350523  , -1.5135994 ,\n",
       "         1.7679737 ,  3.6371944 , -2.2172837 , -1.9403939 ,  3.4959404 ,\n",
       "        -1.7594388 , -1.2526349 , -1.0685431 ,  2.8657088 ,  4.0364556 ,\n",
       "        -3.1400163 ,  3.6177971 , -0.50048184,  1.4922067 , -3.905917  ,\n",
       "        -1.5444386 ,  1.6320407 ,  3.1623538 , -2.6294413 ,  2.489205  ,\n",
       "         0.7230803 ,  1.506261  , -1.5207679 ,  1.0518749 , -4.7825823 ,\n",
       "        -4.2719173 ,  0.04710868,  2.920048  , -3.555042  , -4.939091  ,\n",
       "         1.1597228 ,  3.0863318 , -3.669329  , -3.5913815 ,  0.84986246,\n",
       "        -3.7133005 , -2.2633998 ,  2.1789324 , -3.1077597 ,  4.0267315 ,\n",
       "         2.2523303 ,  4.871753  ,  0.76116395,  1.8315566 , -0.95896304,\n",
       "        -2.8570385 ,  0.06214237, -3.5844784 , -0.01573768,  1.4007947 ,\n",
       "         3.9403722 ,  3.178663  ,  2.9164069 , -2.7101753 , -2.4162712 ,\n",
       "        -0.6483005 , -3.39391   , -1.4794599 , -4.842164  ,  2.7178657 ,\n",
       "        -0.91099036,  4.050436  ,  0.02050263, -3.6670399 , -1.79528   ,\n",
       "        -0.98281205,  0.10814643, -2.5003324 ,  2.4044755 ,  4.196143  ,\n",
       "        -1.410225  ,  0.6900189 , -0.23621821,  4.3995    ,  2.883237  ,\n",
       "         3.1819968 ,  3.10602   ,  1.4748913 ,  0.8607247 , -0.1969237 ,\n",
       "        -2.3013499 , -4.802051  , -3.619786  ,  0.03827673, -1.2209698 ,\n",
       "         1.9892584 , -3.7216918 ,  5.0706377 ,  0.55501556,  2.671233  ]],\n",
       "      dtype=float32)>"
      ]
     },
     "execution_count": 21,
     "metadata": {},
     "output_type": "execute_result"
    }
   ],
   "source": [
    "(20.0 * model.layers[0].weights[0]) + (3.0 * model.layers[0].weights[1]) + ( model.layers[1].weights[1])"
   ]
  },
  {
   "cell_type": "code",
   "execution_count": 23,
   "metadata": {},
   "outputs": [
    {
     "name": "stdout",
     "output_type": "stream",
     "text": [
      "Collecting pydot\n",
      "  Downloading pydot-1.4.2-py2.py3-none-any.whl (21 kB)\n",
      "Collecting pyparsing>=2.1.4\n",
      "  Downloading pyparsing-3.1.1-py3-none-any.whl (103 kB)\n",
      "Installing collected packages: pyparsing, pydot\n",
      "Successfully installed pydot-1.4.2 pyparsing-3.1.1\n"
     ]
    }
   ],
   "source": [
    "! pip install  pydot"
   ]
  },
  {
   "cell_type": "code",
   "execution_count": 24,
   "metadata": {},
   "outputs": [
    {
     "name": "stdout",
     "output_type": "stream",
     "text": [
      "Collecting graphviz\n",
      "  Downloading graphviz-0.20.1-py3-none-any.whl (47 kB)\n",
      "Installing collected packages: graphviz\n",
      "Successfully installed graphviz-0.20.1\n"
     ]
    }
   ],
   "source": [
    "! pip install graphviz"
   ]
  },
  {
   "cell_type": "code",
   "execution_count": 26,
   "metadata": {},
   "outputs": [
    {
     "name": "stdout",
     "output_type": "stream",
     "text": [
      "You must install pydot (`pip install pydot`) and install graphviz (see instructions at https://graphviz.gitlab.io/download/) for plot_model to work.\n"
     ]
    }
   ],
   "source": [
    "tf.keras.utils.plot_model(model)"
   ]
  },
  {
   "cell_type": "markdown",
   "metadata": {},
   "source": [
    "## predict"
   ]
  },
  {
   "cell_type": "code",
   "execution_count": 27,
   "metadata": {},
   "outputs": [
    {
     "name": "stdout",
     "output_type": "stream",
     "text": [
      "1/1 [==============================] - 1s 587ms/step\n"
     ]
    },
    {
     "data": {
      "text/plain": [
       "array([[4.200002]], dtype=float32)"
      ]
     },
     "execution_count": 27,
     "metadata": {},
     "output_type": "execute_result"
    }
   ],
   "source": [
    "model.predict([[9]])"
   ]
  },
  {
   "cell_type": "code",
   "execution_count": 28,
   "metadata": {},
   "outputs": [
    {
     "data": {
      "text/plain": [
       "array([4.2])"
      ]
     },
     "execution_count": 28,
     "metadata": {},
     "output_type": "execute_result"
    }
   ],
   "source": [
    "(np.array([9]) + 5) * 0.3"
   ]
  }
 ],
 "metadata": {
  "kernelspec": {
   "display_name": "base",
   "language": "python",
   "name": "python3"
  },
  "language_info": {
   "codemirror_mode": {
    "name": "ipython",
    "version": 3
   },
   "file_extension": ".py",
   "mimetype": "text/x-python",
   "name": "python",
   "nbconvert_exporter": "python",
   "pygments_lexer": "ipython3",
   "version": "3.8.8"
  },
  "orig_nbformat": 4
 },
 "nbformat": 4,
 "nbformat_minor": 2
}
