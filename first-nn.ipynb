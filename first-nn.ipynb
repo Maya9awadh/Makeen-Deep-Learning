{
 "cells": [
  {
   "cell_type": "code",
   "execution_count": 1,
   "metadata": {},
   "outputs": [],
   "source": [
    "#imported librarries\n",
    "import tensorflow as tf \n",
    "import numpy as np"
   ]
  },
  {
   "cell_type": "code",
   "execution_count": 3,
   "metadata": {},
   "outputs": [],
   "source": [
    "#create dummy dataset\n",
    "x=tf.random.uniform((100,1))\n",
    "y=(x+5)*0.3"
   ]
  },
  {
   "cell_type": "code",
   "execution_count": 4,
   "metadata": {},
   "outputs": [
    {
     "data": {
      "text/plain": [
       "(tensorflow.python.framework.ops.EagerTensor,\n",
       " tensorflow.python.framework.ops.EagerTensor)"
      ]
     },
     "execution_count": 4,
     "metadata": {},
     "output_type": "execute_result"
    }
   ],
   "source": [
    "type(x),type(y)"
   ]
  },
  {
   "cell_type": "code",
   "execution_count": 6,
   "metadata": {},
   "outputs": [
    {
     "data": {
      "text/plain": [
       "(TensorShape([100, 1]), TensorShape([100, 1]))"
      ]
     },
     "execution_count": 6,
     "metadata": {},
     "output_type": "execute_result"
    }
   ],
   "source": [
    "x.shape, y.shape"
   ]
  },
  {
   "cell_type": "code",
   "execution_count": 8,
   "metadata": {},
   "outputs": [],
   "source": [
    "#define a simple nueral network\n",
    "model=tf.keras.Sequential(\n",
    "    [\n",
    "        tf.keras.layers.Input(name='InputLayer',shape=[1]),\n",
    "        tf.keras.layers.Dense(100,name='H1'),\n",
    "        tf.keras.layers.Dense(1,name='H2')\n",
    "    ]\n",
    ")"
   ]
  },
  {
   "cell_type": "code",
   "execution_count": 9,
   "metadata": {},
   "outputs": [
    {
     "name": "stdout",
     "output_type": "stream",
     "text": [
      "Model: \"sequential\"\n",
      "_________________________________________________________________\n",
      " Layer (type)                Output Shape              Param #   \n",
      "=================================================================\n",
      " H1 (Dense)                  (None, 100)               200       \n",
      "                                                                 \n",
      " H2 (Dense)                  (None, 1)                 101       \n",
      "                                                                 \n",
      "=================================================================\n",
      "Total params: 301 (1.18 KB)\n",
      "Trainable params: 301 (1.18 KB)\n",
      "Non-trainable params: 0 (0.00 Byte)\n",
      "_________________________________________________________________\n"
     ]
    }
   ],
   "source": [
    "#summarize the model\n",
    "model.summary()"
   ]
  },
  {
   "cell_type": "code",
   "execution_count": 10,
   "metadata": {},
   "outputs": [
    {
     "data": {
      "text/plain": [
       "TensorShape([1, 100])"
      ]
     },
     "execution_count": 10,
     "metadata": {},
     "output_type": "execute_result"
    }
   ],
   "source": [
    "model.layers[0].weights[0].shape"
   ]
  },
  {
   "cell_type": "code",
   "execution_count": 12,
   "metadata": {},
   "outputs": [],
   "source": [
    "#Train neural network\n",
    "model.compile(loss='MSE',optimizer='adam')"
   ]
  },
  {
   "cell_type": "code",
   "execution_count": 15,
   "metadata": {},
   "outputs": [
    {
     "name": "stdout",
     "output_type": "stream",
     "text": [
      "Epoch 1/100\n",
      "1/1 [==============================] - 0s 14ms/step - loss: 0.0017\n",
      "Epoch 2/100\n",
      "1/1 [==============================] - 0s 18ms/step - loss: 0.0017\n",
      "Epoch 3/100\n",
      "1/1 [==============================] - 0s 11ms/step - loss: 0.0017\n",
      "Epoch 4/100\n",
      "1/1 [==============================] - 0s 19ms/step - loss: 0.0016\n",
      "Epoch 5/100\n",
      "1/1 [==============================] - 0s 19ms/step - loss: 0.0016\n",
      "Epoch 6/100\n",
      "1/1 [==============================] - 0s 16ms/step - loss: 0.0016\n",
      "Epoch 7/100\n",
      "1/1 [==============================] - 0s 17ms/step - loss: 0.0015\n",
      "Epoch 8/100\n",
      "1/1 [==============================] - 0s 24ms/step - loss: 0.0015\n",
      "Epoch 9/100\n",
      "1/1 [==============================] - 0s 17ms/step - loss: 0.0015\n",
      "Epoch 10/100\n",
      "1/1 [==============================] - 0s 20ms/step - loss: 0.0015\n",
      "Epoch 11/100\n",
      "1/1 [==============================] - 0s 22ms/step - loss: 0.0015\n",
      "Epoch 12/100\n",
      "1/1 [==============================] - 0s 21ms/step - loss: 0.0014\n",
      "Epoch 13/100\n",
      "1/1 [==============================] - 0s 16ms/step - loss: 0.0014\n",
      "Epoch 14/100\n",
      "1/1 [==============================] - 0s 18ms/step - loss: 0.0014\n",
      "Epoch 15/100\n",
      "1/1 [==============================] - 0s 21ms/step - loss: 0.0014\n",
      "Epoch 16/100\n",
      "1/1 [==============================] - 0s 19ms/step - loss: 0.0013\n",
      "Epoch 17/100\n",
      "1/1 [==============================] - 0s 17ms/step - loss: 0.0013\n",
      "Epoch 18/100\n",
      "1/1 [==============================] - 0s 20ms/step - loss: 0.0013\n",
      "Epoch 19/100\n",
      "1/1 [==============================] - 0s 17ms/step - loss: 0.0013\n",
      "Epoch 20/100\n",
      "1/1 [==============================] - 0s 19ms/step - loss: 0.0012\n",
      "Epoch 21/100\n",
      "1/1 [==============================] - 0s 20ms/step - loss: 0.0012\n",
      "Epoch 22/100\n",
      "1/1 [==============================] - 0s 11ms/step - loss: 0.0012\n",
      "Epoch 23/100\n",
      "1/1 [==============================] - 0s 17ms/step - loss: 0.0012\n",
      "Epoch 24/100\n",
      "1/1 [==============================] - 0s 11ms/step - loss: 0.0012\n",
      "Epoch 25/100\n",
      "1/1 [==============================] - 0s 17ms/step - loss: 0.0011\n",
      "Epoch 26/100\n",
      "1/1 [==============================] - 0s 27ms/step - loss: 0.0011\n",
      "Epoch 27/100\n",
      "1/1 [==============================] - 0s 20ms/step - loss: 0.0011\n",
      "Epoch 28/100\n",
      "1/1 [==============================] - 0s 19ms/step - loss: 0.0011\n",
      "Epoch 29/100\n",
      "1/1 [==============================] - 0s 24ms/step - loss: 0.0011\n",
      "Epoch 30/100\n",
      "1/1 [==============================] - 0s 19ms/step - loss: 0.0011\n",
      "Epoch 31/100\n",
      "1/1 [==============================] - 0s 22ms/step - loss: 0.0010\n",
      "Epoch 32/100\n",
      "1/1 [==============================] - 0s 23ms/step - loss: 0.0010\n",
      "Epoch 33/100\n",
      "1/1 [==============================] - 0s 19ms/step - loss: 0.0010\n",
      "Epoch 34/100\n",
      "1/1 [==============================] - 0s 18ms/step - loss: 9.8741e-04\n",
      "Epoch 35/100\n",
      "1/1 [==============================] - 0s 15ms/step - loss: 9.7067e-04\n",
      "Epoch 36/100\n",
      "1/1 [==============================] - 0s 12ms/step - loss: 9.5418e-04\n",
      "Epoch 37/100\n",
      "1/1 [==============================] - 0s 15ms/step - loss: 9.3793e-04\n",
      "Epoch 38/100\n",
      "1/1 [==============================] - 0s 14ms/step - loss: 9.2193e-04\n",
      "Epoch 39/100\n",
      "1/1 [==============================] - 0s 17ms/step - loss: 9.0617e-04\n",
      "Epoch 40/100\n",
      "1/1 [==============================] - 0s 11ms/step - loss: 8.9065e-04\n",
      "Epoch 41/100\n",
      "1/1 [==============================] - 0s 12ms/step - loss: 8.7536e-04\n",
      "Epoch 42/100\n",
      "1/1 [==============================] - 0s 19ms/step - loss: 8.6031e-04\n",
      "Epoch 43/100\n",
      "1/1 [==============================] - 0s 15ms/step - loss: 8.4549e-04\n",
      "Epoch 44/100\n",
      "1/1 [==============================] - 0s 14ms/step - loss: 8.3089e-04\n",
      "Epoch 45/100\n",
      "1/1 [==============================] - 0s 20ms/step - loss: 8.1653e-04\n",
      "Epoch 46/100\n",
      "1/1 [==============================] - 0s 17ms/step - loss: 8.0238e-04\n",
      "Epoch 47/100\n",
      "1/1 [==============================] - 0s 15ms/step - loss: 7.8846e-04\n",
      "Epoch 48/100\n",
      "1/1 [==============================] - 0s 8ms/step - loss: 7.7475e-04\n",
      "Epoch 49/100\n",
      "1/1 [==============================] - 0s 20ms/step - loss: 7.6125e-04\n",
      "Epoch 50/100\n",
      "1/1 [==============================] - 0s 9ms/step - loss: 7.4797e-04\n",
      "Epoch 51/100\n",
      "1/1 [==============================] - 0s 8ms/step - loss: 7.3489e-04\n",
      "Epoch 52/100\n",
      "1/1 [==============================] - 0s 17ms/step - loss: 7.2202e-04\n",
      "Epoch 53/100\n",
      "1/1 [==============================] - 0s 12ms/step - loss: 7.0935e-04\n",
      "Epoch 54/100\n",
      "1/1 [==============================] - 0s 6ms/step - loss: 6.9688e-04\n",
      "Epoch 55/100\n",
      "1/1 [==============================] - 0s 13ms/step - loss: 6.8461e-04\n",
      "Epoch 56/100\n",
      "1/1 [==============================] - 0s 14ms/step - loss: 6.7253e-04\n",
      "Epoch 57/100\n",
      "1/1 [==============================] - 0s 31ms/step - loss: 6.6064e-04\n",
      "Epoch 58/100\n",
      "1/1 [==============================] - 0s 15ms/step - loss: 6.4894e-04\n",
      "Epoch 59/100\n",
      "1/1 [==============================] - 0s 16ms/step - loss: 6.3742e-04\n",
      "Epoch 60/100\n",
      "1/1 [==============================] - 0s 11ms/step - loss: 6.2609e-04\n",
      "Epoch 61/100\n",
      "1/1 [==============================] - 0s 15ms/step - loss: 6.1493e-04\n",
      "Epoch 62/100\n",
      "1/1 [==============================] - 0s 11ms/step - loss: 6.0396e-04\n",
      "Epoch 63/100\n",
      "1/1 [==============================] - 0s 10ms/step - loss: 5.9316e-04\n",
      "Epoch 64/100\n",
      "1/1 [==============================] - 0s 13ms/step - loss: 5.8253e-04\n",
      "Epoch 65/100\n",
      "1/1 [==============================] - 0s 11ms/step - loss: 5.7208e-04\n",
      "Epoch 66/100\n",
      "1/1 [==============================] - 0s 9ms/step - loss: 5.6179e-04\n",
      "Epoch 67/100\n",
      "1/1 [==============================] - 0s 8ms/step - loss: 5.5167e-04\n",
      "Epoch 68/100\n",
      "1/1 [==============================] - 0s 15ms/step - loss: 5.4171e-04\n",
      "Epoch 69/100\n",
      "1/1 [==============================] - 0s 11ms/step - loss: 5.3192e-04\n",
      "Epoch 70/100\n",
      "1/1 [==============================] - 0s 11ms/step - loss: 5.2228e-04\n",
      "Epoch 71/100\n",
      "1/1 [==============================] - 0s 11ms/step - loss: 5.1280e-04\n",
      "Epoch 72/100\n",
      "1/1 [==============================] - 0s 11ms/step - loss: 5.0348e-04\n",
      "Epoch 73/100\n",
      "1/1 [==============================] - 0s 13ms/step - loss: 4.9431e-04\n",
      "Epoch 74/100\n",
      "1/1 [==============================] - 0s 13ms/step - loss: 4.8529e-04\n",
      "Epoch 75/100\n",
      "1/1 [==============================] - 0s 14ms/step - loss: 4.7641e-04\n",
      "Epoch 76/100\n",
      "1/1 [==============================] - 0s 10ms/step - loss: 4.6769e-04\n",
      "Epoch 77/100\n",
      "1/1 [==============================] - 0s 15ms/step - loss: 4.5911e-04\n",
      "Epoch 78/100\n",
      "1/1 [==============================] - 0s 8ms/step - loss: 4.5067e-04\n",
      "Epoch 79/100\n",
      "1/1 [==============================] - 0s 8ms/step - loss: 4.4237e-04\n",
      "Epoch 80/100\n",
      "1/1 [==============================] - 0s 14ms/step - loss: 4.3421e-04\n",
      "Epoch 81/100\n",
      "1/1 [==============================] - 0s 12ms/step - loss: 4.2619e-04\n",
      "Epoch 82/100\n",
      "1/1 [==============================] - 0s 13ms/step - loss: 4.1830e-04\n",
      "Epoch 83/100\n",
      "1/1 [==============================] - 0s 11ms/step - loss: 4.1054e-04\n",
      "Epoch 84/100\n",
      "1/1 [==============================] - 0s 11ms/step - loss: 4.0292e-04\n",
      "Epoch 85/100\n",
      "1/1 [==============================] - 0s 9ms/step - loss: 3.9542e-04\n",
      "Epoch 86/100\n",
      "1/1 [==============================] - 0s 16ms/step - loss: 3.8805e-04\n",
      "Epoch 87/100\n",
      "1/1 [==============================] - 0s 11ms/step - loss: 3.8080e-04\n",
      "Epoch 88/100\n",
      "1/1 [==============================] - 0s 7ms/step - loss: 3.7368e-04\n",
      "Epoch 89/100\n",
      "1/1 [==============================] - 0s 11ms/step - loss: 3.6668e-04\n",
      "Epoch 90/100\n",
      "1/1 [==============================] - 0s 10ms/step - loss: 3.5979e-04\n",
      "Epoch 91/100\n",
      "1/1 [==============================] - 0s 11ms/step - loss: 3.5303e-04\n",
      "Epoch 92/100\n",
      "1/1 [==============================] - 0s 8ms/step - loss: 3.4638e-04\n",
      "Epoch 93/100\n",
      "1/1 [==============================] - 0s 27ms/step - loss: 3.3984e-04\n",
      "Epoch 94/100\n",
      "1/1 [==============================] - 0s 13ms/step - loss: 3.3342e-04\n",
      "Epoch 95/100\n",
      "1/1 [==============================] - 0s 7ms/step - loss: 3.2710e-04\n",
      "Epoch 96/100\n",
      "1/1 [==============================] - 0s 17ms/step - loss: 3.2090e-04\n",
      "Epoch 97/100\n",
      "1/1 [==============================] - 0s 15ms/step - loss: 3.1480e-04\n",
      "Epoch 98/100\n",
      "1/1 [==============================] - 0s 10ms/step - loss: 3.0881e-04\n",
      "Epoch 99/100\n",
      "1/1 [==============================] - 0s 9ms/step - loss: 3.0292e-04\n",
      "Epoch 100/100\n",
      "1/1 [==============================] - 0s 10ms/step - loss: 2.9713e-04\n"
     ]
    },
    {
     "data": {
      "text/plain": [
       "<keras.src.callbacks.History at 0x1d5ce922eb0>"
      ]
     },
     "execution_count": 15,
     "metadata": {},
     "output_type": "execute_result"
    }
   ],
   "source": [
    "model.fit(x, y, epochs=100,batch_size=100)"
   ]
  }
 ],
 "metadata": {
  "kernelspec": {
   "display_name": "base",
   "language": "python",
   "name": "python3"
  },
  "language_info": {
   "codemirror_mode": {
    "name": "ipython",
    "version": 3
   },
   "file_extension": ".py",
   "mimetype": "text/x-python",
   "name": "python",
   "nbconvert_exporter": "python",
   "pygments_lexer": "ipython3",
   "version": "3.8.8"
  },
  "orig_nbformat": 4
 },
 "nbformat": 4,
 "nbformat_minor": 2
}
